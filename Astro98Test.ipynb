{
 "cells": [
  {
   "cell_type": "code",
   "execution_count": 1,
   "id": "81bfc2f7-edef-4b20-8b73-b48cd130ab2c",
   "metadata": {},
   "outputs": [
    {
     "ename": "NameError",
     "evalue": "name 'time' is not defined",
     "output_type": "error",
     "traceback": [
      "\u001b[1;31m---------------------------------------------------------------------------\u001b[0m",
      "\u001b[1;31mNameError\u001b[0m                                 Traceback (most recent call last)",
      "Cell \u001b[1;32mIn[1], line 49\u001b[0m\n\u001b[0;32m     45\u001b[0m     \u001b[38;5;28;01mreturn\u001b[39;00m (\u001b[38;5;241m3\u001b[39m\u001b[38;5;241m/\u001b[39m\u001b[38;5;241m2\u001b[39m) \u001b[38;5;241m*\u001b[39m (big_g \u001b[38;5;241m*\u001b[39m earth_mass \u001b[38;5;241m*\u001b[39m (earth_radius \u001b[38;5;241m*\u001b[39m\u001b[38;5;241m*\u001b[39m \u001b[38;5;241m2\u001b[39m))\u001b[38;5;241m/\u001b[39m(gem \u001b[38;5;241m*\u001b[39m (ecm_distance \u001b[38;5;241m*\u001b[39m\u001b[38;5;241m*\u001b[39m \u001b[38;5;241m2\u001b[39m))\n\u001b[0;32m     47\u001b[0m \u001b[38;5;66;03m#Intermediates\u001b[39;00m\n\u001b[1;32m---> 49\u001b[0m ecm_disx \u001b[38;5;241m=\u001b[39m find_em_majoraxes(time)\n\u001b[0;32m     50\u001b[0m ecm_disy \u001b[38;5;241m=\u001b[39m find_em_minoraxes(time)\n\u001b[0;32m     52\u001b[0m ecm_dis \u001b[38;5;241m=\u001b[39m math\u001b[38;5;241m.\u001b[39msqrt(ecm_disx\u001b[38;5;241m*\u001b[39m\u001b[38;5;241m*\u001b[39m\u001b[38;5;241m2\u001b[39m \u001b[38;5;241m+\u001b[39m ecm_disy\u001b[38;5;241m*\u001b[39m\u001b[38;5;241m*\u001b[39m\u001b[38;5;241m2\u001b[39m)\n",
      "\u001b[1;31mNameError\u001b[0m: name 'time' is not defined"
     ]
    }
   ],
   "source": [
    "import turtle as tr\n",
    "import math\n",
    "import numpy as np\n",
    "\n",
    "##Variables/functions\n",
    "#Earth\n",
    "big_g = 6.67428 * pow(10, -11) #Nm^2/kg^2\n",
    "earth_mass = 5.972 * pow(10, 24) #kg\n",
    "earth_rot_period = 23.9333 #en horas\n",
    "earth_radius = 6378 #kilometers\n",
    "earth_orb_period = 365.2422 #days\n",
    "axial_tilt = (23.5 * math.pi) / 180\n",
    "gem = 0.0098 #km/s^2\n",
    "\n",
    "#Moon\n",
    "moon_mass = 7.348 * pow(10, 22) #kg\n",
    "moon_orb_period = 27.2917 #days\n",
    "ecm_apogee = 405696 #km\n",
    "ecm_perigee = 363300 #km\n",
    "gcm = 0.001625 #km/s^2\n",
    "#Sun\n",
    "sun_mass = 1.989 * pow (10, 30) #kg\n",
    "es_aphelion = 152097701 #km\n",
    "es_perihelion = 147098074 #km\n",
    "\n",
    "##Intermediate Vars\n",
    "es_amp = (es_aphelion - es_perihelion)/2\n",
    "em_amp = (ecm_apogee - ecm_perigee)/2\n",
    "\n",
    "#Functions\n",
    "\n",
    "def find_es_distance(time):\n",
    "    return (es_amp)*math.cos((2*math.pi() * time)/(earth_rot_period * earth_orb_period)) + (es_aphelion - es_amp)\n",
    "\n",
    "def find_em_majoraxes(time):\n",
    "    return (ecm_apogee) * math.cos((2*math.pi() * time)/(earth_rot_period * earth_orb_period))\n",
    "\n",
    "def find_em_minoraxes(time):\n",
    "    return (ecm_perigee) * math.cos((2*math.pi() * time)/(earth_rot_period * earth_orb_period))\n",
    "\n",
    "def find_tidal_force():\n",
    "    return ((-2) * big_g * earth_mass * earth_radius)/(pow(ecm_distance, 3))\n",
    "\n",
    "def find_waveheight():\n",
    "    return (3/2) * (big_g * earth_mass * (earth_radius ** 2))/(gem * (ecm_distance ** 2))\n",
    "\n",
    "#Intermediates\n",
    "                                                               \n",
    "ecm_disx = find_em_majoraxes(time)\n",
    "ecm_disy = find_em_minoraxes(time)\n",
    "\n",
    "ecm_dis = math.sqrt(ecm_disx**2 + ecm_disy**2)\n"
   ]
  },
  {
   "cell_type": "code",
   "execution_count": 5,
   "id": "52291799-e655-4925-ad8d-4de07da9dfaa",
   "metadata": {},
   "outputs": [
    {
     "ename": "TclError",
     "evalue": "invalid command name \".!canvas\"",
     "output_type": "error",
     "traceback": [
      "\u001b[1;31m---------------------------------------------------------------------------\u001b[0m",
      "\u001b[1;31mTclError\u001b[0m                                  Traceback (most recent call last)",
      "Cell \u001b[1;32mIn[5], line 21\u001b[0m\n\u001b[0;32m     19\u001b[0m sun\u001b[38;5;241m.\u001b[39mshape(\u001b[38;5;124m\"\u001b[39m\u001b[38;5;124mcircle\u001b[39m\u001b[38;5;124m\"\u001b[39m)\n\u001b[0;32m     20\u001b[0m sun\u001b[38;5;241m.\u001b[39mcolor(\u001b[38;5;124m\"\u001b[39m\u001b[38;5;124myellow\u001b[39m\u001b[38;5;124m\"\u001b[39m)\n\u001b[1;32m---> 21\u001b[0m sun\u001b[38;5;241m.\u001b[39msetpos(es_aphelion,\u001b[38;5;241m0\u001b[39m)\n\u001b[0;32m     23\u001b[0m \u001b[38;5;66;03m#Moon Settings, Initial conditions\u001b[39;00m\n\u001b[0;32m     24\u001b[0m moon\u001b[38;5;241m.\u001b[39mshape(\u001b[38;5;124m\"\u001b[39m\u001b[38;5;124mcircle\u001b[39m\u001b[38;5;124m\"\u001b[39m)\n",
      "File \u001b[1;32m~\\anaconda3\\Lib\\turtle.py:1775\u001b[0m, in \u001b[0;36mTNavigator.goto\u001b[1;34m(self, x, y)\u001b[0m\n\u001b[0;32m   1773\u001b[0m     \u001b[38;5;28mself\u001b[39m\u001b[38;5;241m.\u001b[39m_goto(Vec2D(\u001b[38;5;241m*\u001b[39mx))\n\u001b[0;32m   1774\u001b[0m \u001b[38;5;28;01melse\u001b[39;00m:\n\u001b[1;32m-> 1775\u001b[0m     \u001b[38;5;28mself\u001b[39m\u001b[38;5;241m.\u001b[39m_goto(Vec2D(x, y))\n",
      "File \u001b[1;32m~\\anaconda3\\Lib\\turtle.py:3248\u001b[0m, in \u001b[0;36mRawTurtle._goto\u001b[1;34m(self, end)\u001b[0m\n\u001b[0;32m   3246\u001b[0m     \u001b[38;5;28mself\u001b[39m\u001b[38;5;241m.\u001b[39m_position \u001b[38;5;241m=\u001b[39m start \u001b[38;5;241m+\u001b[39m delta \u001b[38;5;241m*\u001b[39m n\n\u001b[0;32m   3247\u001b[0m     \u001b[38;5;28;01mif\u001b[39;00m \u001b[38;5;28mself\u001b[39m\u001b[38;5;241m.\u001b[39m_drawing:\n\u001b[1;32m-> 3248\u001b[0m         screen\u001b[38;5;241m.\u001b[39m_drawline(\u001b[38;5;28mself\u001b[39m\u001b[38;5;241m.\u001b[39mdrawingLineItem,\n\u001b[0;32m   3249\u001b[0m                          (start, \u001b[38;5;28mself\u001b[39m\u001b[38;5;241m.\u001b[39m_position),\n\u001b[0;32m   3250\u001b[0m                          \u001b[38;5;28mself\u001b[39m\u001b[38;5;241m.\u001b[39m_pencolor, \u001b[38;5;28mself\u001b[39m\u001b[38;5;241m.\u001b[39m_pensize, top)\n\u001b[0;32m   3251\u001b[0m     \u001b[38;5;28mself\u001b[39m\u001b[38;5;241m.\u001b[39m_update()\n\u001b[0;32m   3252\u001b[0m \u001b[38;5;28;01mif\u001b[39;00m \u001b[38;5;28mself\u001b[39m\u001b[38;5;241m.\u001b[39m_drawing:\n",
      "File \u001b[1;32m~\\anaconda3\\Lib\\turtle.py:539\u001b[0m, in \u001b[0;36mTurtleScreenBase._drawline\u001b[1;34m(self, lineitem, coordlist, fill, width, top)\u001b[0m\n\u001b[0;32m    537\u001b[0m         cl\u001b[38;5;241m.\u001b[39mappend(x \u001b[38;5;241m*\u001b[39m \u001b[38;5;28mself\u001b[39m\u001b[38;5;241m.\u001b[39mxscale)\n\u001b[0;32m    538\u001b[0m         cl\u001b[38;5;241m.\u001b[39mappend(\u001b[38;5;241m-\u001b[39my \u001b[38;5;241m*\u001b[39m \u001b[38;5;28mself\u001b[39m\u001b[38;5;241m.\u001b[39myscale)\n\u001b[1;32m--> 539\u001b[0m     \u001b[38;5;28mself\u001b[39m\u001b[38;5;241m.\u001b[39mcv\u001b[38;5;241m.\u001b[39mcoords(lineitem, \u001b[38;5;241m*\u001b[39mcl)\n\u001b[0;32m    540\u001b[0m \u001b[38;5;28;01mif\u001b[39;00m fill \u001b[38;5;129;01mis\u001b[39;00m \u001b[38;5;129;01mnot\u001b[39;00m \u001b[38;5;28;01mNone\u001b[39;00m:\n\u001b[0;32m    541\u001b[0m     \u001b[38;5;28mself\u001b[39m\u001b[38;5;241m.\u001b[39mcv\u001b[38;5;241m.\u001b[39mitemconfigure(lineitem, fill\u001b[38;5;241m=\u001b[39mfill)\n",
      "File \u001b[1;32m<string>:1\u001b[0m, in \u001b[0;36mcoords\u001b[1;34m(self, *args, **kw)\u001b[0m\n",
      "File \u001b[1;32m~\\anaconda3\\Lib\\tkinter\\__init__.py:2851\u001b[0m, in \u001b[0;36mCanvas.coords\u001b[1;34m(self, *args)\u001b[0m\n\u001b[0;32m   2847\u001b[0m \u001b[38;5;250m\u001b[39m\u001b[38;5;124;03m\"\"\"Return a list of coordinates for the item given in ARGS.\"\"\"\u001b[39;00m\n\u001b[0;32m   2848\u001b[0m args \u001b[38;5;241m=\u001b[39m _flatten(args)\n\u001b[0;32m   2849\u001b[0m \u001b[38;5;28;01mreturn\u001b[39;00m [\u001b[38;5;28mself\u001b[39m\u001b[38;5;241m.\u001b[39mtk\u001b[38;5;241m.\u001b[39mgetdouble(x) \u001b[38;5;28;01mfor\u001b[39;00m x \u001b[38;5;129;01min\u001b[39;00m\n\u001b[0;32m   2850\u001b[0m                    \u001b[38;5;28mself\u001b[39m\u001b[38;5;241m.\u001b[39mtk\u001b[38;5;241m.\u001b[39msplitlist(\n\u001b[1;32m-> 2851\u001b[0m            \u001b[38;5;28mself\u001b[39m\u001b[38;5;241m.\u001b[39mtk\u001b[38;5;241m.\u001b[39mcall((\u001b[38;5;28mself\u001b[39m\u001b[38;5;241m.\u001b[39m_w, \u001b[38;5;124m'\u001b[39m\u001b[38;5;124mcoords\u001b[39m\u001b[38;5;124m'\u001b[39m) \u001b[38;5;241m+\u001b[39m args))]\n",
      "\u001b[1;31mTclError\u001b[0m: invalid command name \".!canvas\""
     ]
    }
   ],
   "source": [
    "##Turtles\n",
    "\n",
    "import turtle as tr\n",
    "import math\n",
    "import numpy as np\n",
    "\n",
    "screen = tr.getscreen()\n",
    "tr.screensize(canvwidth = 500000000, canvheight = 500000000)\n",
    "earth = tr.Turtle()\n",
    "moon = tr.Turtle()\n",
    "sun = tr.Turtle()\n",
    "\n",
    "#Earth Settings\n",
    "earth.shape(\"circle\")\n",
    "earth.setpos(0,0)\n",
    "earth.color(\"blue\")\n",
    "\n",
    "#Sun Settings\n",
    "sun.shape(\"circle\")\n",
    "sun.color(\"yellow\")\n",
    "sun.setpos(es_aphelion,0)\n",
    "\n",
    "#Moon Settings, Initial conditions\n",
    "moon.shape(\"circle\")\n",
    "moon.color(\"black\")\n",
    "moon.setpos(ecm_apogee,0)\n",
    "\n"
   ]
  },
  {
   "cell_type": "code",
   "execution_count": null,
   "id": "2d98bb6c-f240-46cb-850a-c58d2a545c2d",
   "metadata": {},
   "outputs": [],
   "source": [
    "#Animation Settings"
   ]
  }
 ],
 "metadata": {
  "kernelspec": {
   "display_name": "Python [conda env:base] *",
   "language": "python",
   "name": "conda-base-py"
  },
  "language_info": {
   "codemirror_mode": {
    "name": "ipython",
    "version": 3
   },
   "file_extension": ".py",
   "mimetype": "text/x-python",
   "name": "python",
   "nbconvert_exporter": "python",
   "pygments_lexer": "ipython3",
   "version": "3.12.7"
  }
 },
 "nbformat": 4,
 "nbformat_minor": 5
}
